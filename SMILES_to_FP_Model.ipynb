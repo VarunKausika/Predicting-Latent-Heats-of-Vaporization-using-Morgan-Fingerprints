{
 "cells": [
  {
   "cell_type": "markdown",
   "source": [
    "This is my project for predicting latent heats by means of encoding molecular fingerprints as the input to an ANN. This ANN compares the performance with topological fingerprints, ECFP4 fingerprints and Morgan fingerprints. Previously established methods use a combination of molecular descriptors to regressively predict latent heats of vaporization."
   ],
   "metadata": {}
  },
  {
   "cell_type": "code",
   "execution_count": null,
   "source": [
    "from rdkit.Chem import AllChem\r\n",
    "from rdkit import Chem\r\n",
    "import pandas as pd\r\n",
    "\r\n",
    "df = pd.read_excel('Data_SMILES.xlsx')\r\n",
    "print(df.head)\r\n",
    "XY = df.set_index('SMILES').T.to_dict('list')"
   ],
   "outputs": [],
   "metadata": {}
  },
  {
   "cell_type": "code",
   "execution_count": null,
   "source": [
    "y = []\r\n",
    "X = []\r\n",
    "for smile, Hlist in XY.items():\r\n",
    "    try:\r\n",
    "        X.append(AllChem.GetMorganFingerprintAsBitVect(Chem.MolFromSmiles(smile), 10))\r\n",
    "        y.append(Hlist[0])\r\n",
    "    except:\r\n",
    "        pass\r\n",
    "X = [list(a) for a in X]\r\n",
    "print(len(X), len(y))"
   ],
   "outputs": [],
   "metadata": {}
  },
  {
   "cell_type": "code",
   "execution_count": null,
   "source": [
    "from sklearn.model_selection import train_test_split\r\n",
    "\r\n",
    "Xtrain, Xtest, Ytrain, Ytest = train_test_split(X, y, test_size=0.2, random_state=1)\r\n",
    "print(len(Xtrain))"
   ],
   "outputs": [],
   "metadata": {}
  },
  {
   "cell_type": "code",
   "execution_count": null,
   "source": [
    "from sklearn.neural_network import MLPRegressor\r\n",
    "from sklearn.model_selection import GridSearchCV\r\n",
    "\r\n",
    "train_nn = MLPRegressor(max_iter=1000)\r\n",
    "param_grid = {\r\n",
    "    'activation' : ['identity', 'logistic', 'tanh', 'relu'],\r\n",
    "    'solver' : ['lbfgs', 'sgd', 'adam'],\r\n",
    "    'hidden_layer_sizes': [(1,),(2,),(3,),(4,),(5,),(6,),(7,),(8,),(9,),(10,)],\r\n",
    "    'alpha': [0.0001, 0.05]\r\n",
    "}\r\n",
    "\r\n",
    "clf = GridSearchCV(train_nn , param_grid, n_jobs=-1, cv=3)\r\n",
    "clf.fit(Xtrain, Ytrain)\r\n",
    "print(\"Best parameters set found on development set:\")\r\n",
    "print(clf.best_params_)"
   ],
   "outputs": [],
   "metadata": {}
  },
  {
   "cell_type": "code",
   "execution_count": null,
   "source": [
    "nn = MLPRegressor(activation='logistic', solver='lbfgs', hidden_layer_sizes=(10,), alpha=0.05, random_state=1, max_iter=10000)\r\n",
    "nn.fit(Xtrain, Ytrain)\r\n",
    "pred = nn.predict(Xtest)\r\n",
    "print(nn.score(Xtest, Ytest))\r\n",
    "print(nn.score(Xtrain, Ytrain))"
   ],
   "outputs": [],
   "metadata": {}
  }
 ],
 "metadata": {
  "orig_nbformat": 4,
  "language_info": {
   "name": "python",
   "version": "3.9.7",
   "mimetype": "text/x-python",
   "codemirror_mode": {
    "name": "ipython",
    "version": 3
   },
   "pygments_lexer": "ipython3",
   "nbconvert_exporter": "python",
   "file_extension": ".py"
  },
  "kernelspec": {
   "name": "python3",
   "display_name": "Python 3.9.7 64-bit ('ECFP_Therm': venv)"
  },
  "interpreter": {
   "hash": "66bd05fb3f2557ace72dbbf7a46f9e629e6cc5e74cba078a302c7c56f5455bae"
  }
 },
 "nbformat": 4,
 "nbformat_minor": 2
}